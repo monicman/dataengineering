{
  "nbformat": 4,
  "nbformat_minor": 0,
  "metadata": {
    "colab": {
      "name": "Capstone Project.ipynb",
      "provenance": [],
      "collapsed_sections": [],
      "include_colab_link": true
    },
    "kernelspec": {
      "name": "python3",
      "display_name": "Python 3"
    }
  },
  "cells": [
    {
      "cell_type": "markdown",
      "metadata": {
        "id": "view-in-github",
        "colab_type": "text"
      },
      "source": [
        "<a href=\"https://colab.research.google.com/github/monicman/dataengineering/blob/master/Capstone_Project.ipynb\" target=\"_parent\"><img src=\"https://colab.research.google.com/assets/colab-badge.svg\" alt=\"Open In Colab\"/></a>"
      ]
    },
    {
      "cell_type": "code",
      "metadata": {
        "id": "aH7xBA0fUNiP",
        "colab_type": "code",
        "outputId": "0eda4914-23c5-4fcd-cd28-31a035cc782a",
        "colab": {
          "base_uri": "https://localhost:8080/",
          "height": 263
        }
      },
      "source": [
        "!pip install pyspark"
      ],
      "execution_count": 1,
      "outputs": [
        {
          "output_type": "stream",
          "text": [
            "Collecting pyspark\n",
            "\u001b[?25l  Downloading https://files.pythonhosted.org/packages/87/21/f05c186f4ddb01d15d0ddc36ef4b7e3cedbeb6412274a41f26b55a650ee5/pyspark-2.4.4.tar.gz (215.7MB)\n",
            "\u001b[K     |████████████████████████████████| 215.7MB 49kB/s \n",
            "\u001b[?25hCollecting py4j==0.10.7\n",
            "\u001b[?25l  Downloading https://files.pythonhosted.org/packages/e3/53/c737818eb9a7dc32a7cd4f1396e787bd94200c3997c72c1dbe028587bd76/py4j-0.10.7-py2.py3-none-any.whl (197kB)\n",
            "\u001b[K     |████████████████████████████████| 204kB 38.4MB/s \n",
            "\u001b[?25hBuilding wheels for collected packages: pyspark\n",
            "  Building wheel for pyspark (setup.py) ... \u001b[?25l\u001b[?25hdone\n",
            "  Created wheel for pyspark: filename=pyspark-2.4.4-py2.py3-none-any.whl size=216130387 sha256=c7f5d695ad6b565951c7099651e909abc73a28d0e7244029c26f5a239a8301e5\n",
            "  Stored in directory: /root/.cache/pip/wheels/ab/09/4d/0d184230058e654eb1b04467dbc1292f00eaa186544604b471\n",
            "Successfully built pyspark\n",
            "Installing collected packages: py4j, pyspark\n",
            "Successfully installed py4j-0.10.7 pyspark-2.4.4\n"
          ],
          "name": "stdout"
        }
      ]
    },
    {
      "cell_type": "code",
      "metadata": {
        "id": "_nVeXATOaqpA",
        "colab_type": "code",
        "colab": {}
      },
      "source": [
        "import pandas as pd\n",
        "from pyspark.sql import SparkSession\n",
        "from pyspark import SparkFiles\n",
        "import urllib\n",
        "from urllib.request import urlopen   \n",
        "import io\n",
        "import requests\n",
        "from zipfile import ZipFile\n",
        "import os"
      ],
      "execution_count": 0,
      "outputs": []
    },
    {
      "cell_type": "code",
      "metadata": {
        "id": "Gkz03z6xjlDc",
        "colab_type": "code",
        "colab": {}
      },
      "source": [
        "spark = SparkSession.builder.getOrCreate()\n",
        "\n",
        "def ingest_files(url,filename):\n",
        "  spark.sparkContext.addFile(url)\n",
        "  if url[-3:] == 'csv':\n",
        "    return spark.read.csv(SparkFiles.get(filename), header=True)\n",
        "  elif url[-3:] == 'zip':\n",
        "    url = urlopen(url)\n",
        "    output = open(filename, 'wb')    # note the flag:  \"wb\"        \n",
        "    output.write(url.read())\n",
        "    output.close()\n",
        "    print(\"error here\")\n",
        "    df = pd.read_csv(filename,sep='\\t')\n",
        "    print(\"no actually here\")\n",
        "    return spark.createDataFrame(df)"
      ],
      "execution_count": 0,
      "outputs": []
    },
    {
      "cell_type": "code",
      "metadata": {
        "id": "LE2dMeei3MQC",
        "colab_type": "code",
        "colab": {}
      },
      "source": [
        "spark = SparkSession.builder.getOrCreate()\n",
        "from pyspark.sql.types import StructType, StructField, StringType, DoubleType, DateType\n",
        "\n",
        "def ingest_files(url,filename):\n",
        "  spark.sparkContext.addFile(url)\n",
        "  if url[-3:] == 'csv':\n",
        "    return spark.read.csv(SparkFiles.get(filename), header=True)\n",
        "  elif url[-3:] == 'zip':\n",
        "    url = urlopen(url)\n",
        "    output = open(filename, 'wb')    # note the flag:  \"wb\"        \n",
        "    output.write(url.read())\n",
        "    output.close()\n",
        "    df = pd.read_csv(filename,sep='\\t')\n",
        "    df.iloc[:, 3:6] = df.iloc[:, 3:6].apply(pd.to_datetime, errors='coerce', format='%d/%m/%Y')\n",
        "    myschema = StructType([StructField('REGISTER_NAME', StringType(), True),\n",
        "                         StructField('BN_NAME', StringType(), True),\n",
        "                         StructField('BN_STATUS', StringType(), True),\n",
        "                         StructField('BN_REG_DT', DateType(), True),\n",
        "                         StructField('BN_CANCEL_DT', DateType(), True),\n",
        "                         StructField('BN_RENEW_DT', DateType(), True),\n",
        "                         StructField('BN_STATE_NUM', StringType(), True),\n",
        "                         StructField('BN_STATE_OF_REG', StringType(), True),\n",
        "                         StructField('BN_ABN', DoubleType(), True)])\n",
        "    return spark.createDataFrame(df, schema=myschema)"
      ],
      "execution_count": 0,
      "outputs": []
    },
    {
      "cell_type": "code",
      "metadata": {
        "id": "gtvyMIRnZdVq",
        "colab_type": "code",
        "colab": {}
      },
      "source": [
        "#ipgod101 = 'https://data.gov.au/data/dataset/a4210de2-9cbb-4d43-848d-46138fefd271/resource/e5cbeafc-5fb3-4dfd-bd22-afe81b6ab1e1/download/ipgod101.csv'\n",
        "#ipgod102 = 'https://data.gov.au/data/dataset/a4210de2-9cbb-4d43-848d-46138fefd271/resource/846990df-db42-4ad7-bbd6-567fd37a2797/download/ipgod102.csv'  \n",
        "ABN = 'https://data.gov.au/data/dataset/bc515135-4bb6-4d50-957a-3713709a76d3/resource/839cc783-876f-47a2-a70c-0fe606977517/download/business_names_201909.zip'\n",
        "\n",
        "#staging_ipgod101 = ingest_files(ipgod101,'ipgod101.csv')\n",
        "#staging_ipgod102 = ingest_files(ipgod102,'ipgod102.csv')\n",
        "staging_abr = ingest_files(ABN,'zipFile.zip')"
      ],
      "execution_count": 0,
      "outputs": []
    },
    {
      "cell_type": "code",
      "metadata": {
        "id": "7nttHHqhaYLo",
        "colab_type": "code",
        "outputId": "78c47d5b-c414-42d0-e275-b7e2ce794c37",
        "colab": {
          "base_uri": "https://localhost:8080/",
          "height": 211
        }
      },
      "source": [
        "ABN = 'https://data.gov.au/data/dataset/bc515135-4bb6-4d50-957a-3713709a76d3/resource/839cc783-876f-47a2-a70c-0fe606977517/download/business_names_201909.zip'\n",
        "staging_abr.head(10)"
      ],
      "execution_count": 12,
      "outputs": [
        {
          "output_type": "execute_result",
          "data": {
            "text/plain": [
              "[Row(REGISTER_NAME='BUSINESS NAMES', BN_NAME='            Melbourne Collision Repair Centre Mentone', BN_STATUS='Registered', BN_REG_DT=datetime.date(2019, 5, 3), BN_CANCEL_DT=None, BN_RENEW_DT=datetime.date(2020, 5, 3), BN_STATE_NUM='NaN', BN_STATE_OF_REG='NaN', BN_ABN=84263023451.0),\n",
              " Row(REGISTER_NAME='BUSINESS NAMES', BN_NAME='  Bruce Ward Training', BN_STATUS='Registered', BN_REG_DT=datetime.date(2018, 4, 12), BN_CANCEL_DT=None, BN_RENEW_DT=datetime.date(2020, 4, 12), BN_STATE_NUM='NaN', BN_STATE_OF_REG='NaN', BN_ABN=16897173642.0),\n",
              " Row(REGISTER_NAME='BUSINESS NAMES', BN_NAME='  Class Act Management', BN_STATUS='Registered', BN_REG_DT=datetime.date(2017, 10, 4), BN_CANCEL_DT=None, BN_RENEW_DT=datetime.date(2020, 10, 4), BN_STATE_NUM='NaN', BN_STATE_OF_REG='NaN', BN_ABN=31892662187.0),\n",
              " Row(REGISTER_NAME='BUSINESS NAMES', BN_NAME='  i Prep', BN_STATUS='Deregistered', BN_REG_DT=datetime.date(2015, 8, 5), BN_CANCEL_DT=datetime.date(2018, 12, 13), BN_RENEW_DT=datetime.date(2018, 8, 5), BN_STATE_NUM='NaN', BN_STATE_OF_REG='NaN', BN_ABN=nan),\n",
              " Row(REGISTER_NAME='BUSINESS NAMES', BN_NAME='  Secured Property Services and Management', BN_STATUS='Registered', BN_REG_DT=datetime.date(2012, 7, 1), BN_CANCEL_DT=None, BN_RENEW_DT=datetime.date(2021, 7, 1), BN_STATE_NUM='NaN', BN_STATE_OF_REG='NaN', BN_ABN=82130718722.0),\n",
              " Row(REGISTER_NAME='BUSINESS NAMES', BN_NAME=\"  Sing's Asian Kitchen Rosalie\", BN_STATUS='Registered', BN_REG_DT=datetime.date(2017, 11, 9), BN_CANCEL_DT=None, BN_RENEW_DT=datetime.date(2021, 11, 9), BN_STATE_NUM='NaN', BN_STATE_OF_REG='NaN', BN_ABN=14563170462.0),\n",
              " Row(REGISTER_NAME='BUSINESS NAMES', BN_NAME='  SOLAR REPAIRS AND SALES PERTH', BN_STATUS='Deregistered', BN_REG_DT=datetime.date(2015, 6, 19), BN_CANCEL_DT=datetime.date(2018, 11, 1), BN_RENEW_DT=datetime.date(2018, 6, 19), BN_STATE_NUM='NaN', BN_STATE_OF_REG='NaN', BN_ABN=nan),\n",
              " Row(REGISTER_NAME='BUSINESS NAMES', BN_NAME='  tajenka orchid gardens', BN_STATUS='Registered', BN_REG_DT=datetime.date(2014, 3, 13), BN_CANCEL_DT=None, BN_RENEW_DT=datetime.date(2020, 3, 13), BN_STATE_NUM='NaN', BN_STATE_OF_REG='NaN', BN_ABN=90186768161.0),\n",
              " Row(REGISTER_NAME='BUSINESS NAMES', BN_NAME=' \"D\" DIFFERENCE', BN_STATUS='Registered', BN_REG_DT=datetime.date(2014, 2, 5), BN_CANCEL_DT=None, BN_RENEW_DT=datetime.date(2020, 2, 5), BN_STATE_NUM='NaN', BN_STATE_OF_REG='NaN', BN_ABN=54652195975.0),\n",
              " Row(REGISTER_NAME='BUSINESS NAMES', BN_NAME=' \"LEND A FELLA HANDYMAN SERVICE\"', BN_STATUS='Registered', BN_REG_DT=datetime.date(2015, 2, 21), BN_CANCEL_DT=None, BN_RENEW_DT=datetime.date(2022, 2, 21), BN_STATE_NUM='NaN', BN_STATE_OF_REG='NaN', BN_ABN=39318424586.0)]"
            ]
          },
          "metadata": {
            "tags": []
          },
          "execution_count": 12
        }
      ]
    },
    {
      "cell_type": "code",
      "metadata": {
        "id": "PdRqJX2SDQ8y",
        "colab_type": "code",
        "colab": {
          "base_uri": "https://localhost:8080/",
          "height": 124
        },
        "outputId": "5361d735-2d75-4851-fdc0-65f18cc177e7"
      },
      "source": [
        "staging_ipgod101.head(5)"
      ],
      "execution_count": 15,
      "outputs": [
        {
          "output_type": "execute_result",
          "data": {
            "text/plain": [
              "[Row(australian_appl_no='2018904968', application_year='2018', sealing_year=None, applicant_count='1', australian='True', foreign='False', entity='False', non_entity='True', patent_status_type='FILED', patent_type='Provisional', primary_ipc_mark_value=None),\n",
              " Row(australian_appl_no='2017215797', application_year='2018', sealing_year=None, applicant_count='1', australian='False', foreign='True', entity='True', non_entity='False', patent_status_type='FILED', patent_type='Standard', primary_ipc_mark_value='E06B   9/00'),\n",
              " Row(australian_appl_no='2017216336', application_year='2018', sealing_year=None, applicant_count='1', australian='False', foreign='True', entity='True', non_entity='False', patent_status_type='FILED', patent_type='Standard', primary_ipc_mark_value='A61M  31/00'),\n",
              " Row(australian_appl_no='2017216324', application_year='2018', sealing_year=None, applicant_count='1', australian='False', foreign='True', entity='True', non_entity='False', patent_status_type='FILED', patent_type='Standard', primary_ipc_mark_value='H04W  74/08'),\n",
              " Row(australian_appl_no='2017216313', application_year='2018', sealing_year=None, applicant_count='1', australian='False', foreign='True', entity='True', non_entity='False', patent_status_type='FILED', patent_type='Standard', primary_ipc_mark_value='H01L  29/06')]"
            ]
          },
          "metadata": {
            "tags": []
          },
          "execution_count": 15
        }
      ]
    },
    {
      "cell_type": "code",
      "metadata": {
        "id": "8xFAljD8DWLP",
        "colab_type": "code",
        "colab": {
          "base_uri": "https://localhost:8080/",
          "height": 124
        },
        "outputId": "588ff3db-5a36-44db-f34a-9043cb5128a3"
      },
      "source": [
        "staging_ipgod102.head(5)"
      ],
      "execution_count": 16,
      "outputs": [
        {
          "output_type": "execute_result",
          "data": {
            "text/plain": [
              "[Row(australian_appl_no='1904000001', ipa_id=None, country='ZZ', australian='False', entity='False', name='non-entity', cleanname='non-entity', corp_desg=None, state=None, postcode=None, lat=None, lon=None, sa2_code=None, sa2_name=None, lga_code=None, lga_name=None, gcc_name=None, elect_div=None, abn=None, acn=None),\n",
              " Row(australian_appl_no='1904000004', ipa_id=None, country='ZZ', australian='False', entity='False', name='non-entity', cleanname='non-entity', corp_desg=None, state=None, postcode=None, lat=None, lon=None, sa2_code=None, sa2_name=None, lga_code=None, lga_name=None, gcc_name=None, elect_div=None, abn=None, acn=None),\n",
              " Row(australian_appl_no='1904000006', ipa_id=None, country='ZZ', australian='False', entity='False', name='non-entity', cleanname='non-entity', corp_desg=None, state=None, postcode=None, lat=None, lon=None, sa2_code=None, sa2_name=None, lga_code=None, lga_name=None, gcc_name=None, elect_div=None, abn=None, acn=None),\n",
              " Row(australian_appl_no='1904000009', ipa_id=None, country='ZZ', australian='False', entity='True', name='andin what manner thesame ls Figure Iis a sectional front elevation of tobe performed tobe particularly described weighing apparatus involving mo invention. and ascertained in and bv the', cleanname='ANDIN WHAT MANNER THESAME LS FIGURE IIS A SECTIONAL FRONT ELEVATION OF TOBE PERFORMED TOBE PARTICULARLY DESCRIBED WEIGHING APPARATUS INVOLVING MO INVENTION & ASCERTAINED IN', corp_desg='BV', state=None, postcode=None, lat=None, lon=None, sa2_code=None, sa2_name=None, lga_code=None, lga_name=None, gcc_name=None, elect_div=None, abn=None, acn=None),\n",
              " Row(australian_appl_no='1904000010', ipa_id=None, country='ZZ', australian='False', entity='False', name='non-entity', cleanname='non-entity', corp_desg=None, state=None, postcode=None, lat=None, lon=None, sa2_code=None, sa2_name=None, lga_code=None, lga_name=None, gcc_name=None, elect_div=None, abn=None, acn=None)]"
            ]
          },
          "metadata": {
            "tags": []
          },
          "execution_count": 16
        }
      ]
    },
    {
      "cell_type": "code",
      "metadata": {
        "id": "skJi0YPnDgcm",
        "colab_type": "code",
        "colab": {}
      },
      "source": [
        "staging_ipgod101.createOrReplaceTempView('staging_ipgod102')\n",
        "staging_ipgod102.createOrReplaceTempView('staging_ipgod102')\n",
        "\n",
        "region_table = spark.sql(\"\"\"SELECT DISTINCT\n",
        "                                       lat,\n",
        "                                       lon,\n",
        "                                       sa2_code,\n",
        "                                       sa2_name,\n",
        "                                       lga_code,\n",
        "                                       lga_name,\n",
        "                                       gcc_name,\n",
        "                                       elect_div,\n",
        "                                       elect_div\n",
        "                                       userId\n",
        "                                   FROM staging_ipgod102\n",
        "                                   where australian = 'True' and entity = 'True'\n",
        "                                   order by lat,lon\n",
        "                                   \"\"\") "
      ],
      "execution_count": 0,
      "outputs": []
    },
    {
      "cell_type": "code",
      "metadata": {
        "id": "dkOpmxafFSHu",
        "colab_type": "code",
        "colab": {
          "base_uri": "https://localhost:8080/",
          "height": 124
        },
        "outputId": "54e06df6-6216-4faf-88e1-75a35da5ce1d"
      },
      "source": [
        "region_table.head(5)"
      ],
      "execution_count": 26,
      "outputs": [
        {
          "output_type": "execute_result",
          "data": {
            "text/plain": [
              "[Row(lat=None, lon=None, sa2_code=None, sa2_name=None, lga_code=None, lga_name=None, gcc_name=None, elect_div=None, userId=None),\n",
              " Row(lat='-12.051', lon='134.233', sa2_code='702041063.0', sa2_name='East Arnhem', lga_code='71300.0', lga_name='East Arnhem (R)', gcc_name='Rest of NT', elect_div='Lingiari', userId='Lingiari'),\n",
              " Row(lat='-12.182', lon='136.782', sa2_code='702041064.0', sa2_name='Nhulunbuy', lga_code='79399.0', lga_name='Unincorporated NT', gcc_name='Rest of NT', elect_div='Lingiari', userId='Lingiari'),\n",
              " Row(lat='-12.333', lon='136.817', sa2_code='702041063.0', sa2_name='East Arnhem', lga_code='71300.0', lga_name='East Arnhem (R)', gcc_name='Rest of NT', elect_div='Lingiari', userId='Lingiari'),\n",
              " Row(lat='-12.355', lon='130.880', sa2_code='701021027.0', sa2_name='Tiwi', lga_code='71000.0', lga_name='Darwin (C)', gcc_name='Greater Darwin', elect_div='Solomon', userId='Solomon')]"
            ]
          },
          "metadata": {
            "tags": []
          },
          "execution_count": 26
        }
      ]
    },
    {
      "cell_type": "markdown",
      "metadata": {
        "id": "xwqy64ORFRP7",
        "colab_type": "text"
      },
      "source": [
        ""
      ]
    },
    {
      "cell_type": "code",
      "metadata": {
        "id": "oNE6YiHtD3EM",
        "colab_type": "code",
        "colab": {}
      },
      "source": [
        "region_table =  region.select(\"start_time\").distinct() \\\n",
        "        .withColumn(\"hour\", hour(\"start_time\")).withColumn(\"day\", dayofmonth(\"start_time\")) \\\n",
        "        .withColumn(\"week\", weekofyear(\"start_time\")).withColumn(\"month\", month(\"start_time\")) \\\n",
        "        .withColumn(\"year\", year(\"start_time\")).withColumn(\"weekday\", dayofweek(\"start_time\"))\n"
      ],
      "execution_count": 0,
      "outputs": []
    }
  ]
}