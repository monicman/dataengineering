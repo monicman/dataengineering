{
  "nbformat": 4,
  "nbformat_minor": 0,
  "metadata": {
    "colab": {
      "name": "Capstone Project.ipynb",
      "provenance": [],
      "collapsed_sections": [],
      "include_colab_link": true
    },
    "kernelspec": {
      "name": "python3",
      "display_name": "Python 3"
    }
  },
  "cells": [
    {
      "cell_type": "markdown",
      "metadata": {
        "id": "view-in-github",
        "colab_type": "text"
      },
      "source": [
        "<a href=\"https://colab.research.google.com/github/monicman/dataengineering/blob/master/Capstone_Project.ipynb\" target=\"_parent\"><img src=\"https://colab.research.google.com/assets/colab-badge.svg\" alt=\"Open In Colab\"/></a>"
      ]
    },
    {
      "cell_type": "code",
      "metadata": {
        "id": "aH7xBA0fUNiP",
        "colab_type": "code",
        "colab": {}
      },
      "source": [
        "import pandas as pd"
      ],
      "execution_count": 0,
      "outputs": []
    },
    {
      "cell_type": "code",
      "metadata": {
        "id": "CjhNlI9NUQld",
        "colab_type": "code",
        "outputId": "fa7eb157-1884-4d74-bbe6-b5b31f010448",
        "colab": {
          "base_uri": "https://localhost:8080/",
          "height": 263
        }
      },
      "source": [
        "!pip install pyspark"
      ],
      "execution_count": 4,
      "outputs": [
        {
          "output_type": "stream",
          "text": [
            "Collecting pyspark\n",
            "\u001b[?25l  Downloading https://files.pythonhosted.org/packages/87/21/f05c186f4ddb01d15d0ddc36ef4b7e3cedbeb6412274a41f26b55a650ee5/pyspark-2.4.4.tar.gz (215.7MB)\n",
            "\u001b[K     |████████████████████████████████| 215.7MB 73kB/s \n",
            "\u001b[?25hCollecting py4j==0.10.7 (from pyspark)\n",
            "\u001b[?25l  Downloading https://files.pythonhosted.org/packages/e3/53/c737818eb9a7dc32a7cd4f1396e787bd94200c3997c72c1dbe028587bd76/py4j-0.10.7-py2.py3-none-any.whl (197kB)\n",
            "\u001b[K     |████████████████████████████████| 204kB 38.9MB/s \n",
            "\u001b[?25hBuilding wheels for collected packages: pyspark\n",
            "  Building wheel for pyspark (setup.py) ... \u001b[?25l\u001b[?25hdone\n",
            "  Created wheel for pyspark: filename=pyspark-2.4.4-py2.py3-none-any.whl size=216130387 sha256=d53f6fb2dfcf3abf187beee2d1d5e5223b62deee634258a53bf57a190efa1acf\n",
            "  Stored in directory: /root/.cache/pip/wheels/ab/09/4d/0d184230058e654eb1b04467dbc1292f00eaa186544604b471\n",
            "Successfully built pyspark\n",
            "Installing collected packages: py4j, pyspark\n",
            "Successfully installed py4j-0.10.7 pyspark-2.4.4\n"
          ],
          "name": "stdout"
        }
      ]
    },
    {
      "cell_type": "code",
      "metadata": {
        "id": "HzYTO-JMUXSy",
        "colab_type": "code",
        "colab": {}
      },
      "source": [
        "from pyspark.sql import SparkSession"
      ],
      "execution_count": 0,
      "outputs": []
    },
    {
      "cell_type": "code",
      "metadata": {
        "id": "gtvyMIRnZdVq",
        "colab_type": "code",
        "colab": {}
      },
      "source": [
        "import urllib\n",
        "import io\n",
        "import requests\n",
        "ipgod101 = 'https://data.gov.au/data/dataset/a4210de2-9cbb-4d43-848d-46138fefd271/resource/e5cbeafc-5fb3-4dfd-bd22-afe81b6ab1e1/download/ipgod101.csv'\n",
        "ipgod102 = 'https://data.gov.au/data/dataset/a4210de2-9cbb-4d43-848d-46138fefd271/resource/846990df-db42-4ad7-bbd6-567fd37a2797/download/ipgod102.csv'  \n",
        "ipgod101=pd.read_csv(io.StringIO(requests.get(ipgod101).content.decode('utf-8')),low_memory=False)\n",
        "ipgod102=pd.read_csv(io.StringIO(requests.get(ipgod102).content.decode('utf-8')),low_memory=False)"
      ],
      "execution_count": 0,
      "outputs": []
    },
    {
      "cell_type": "code",
      "metadata": {
        "id": "0BdS2SHateBl",
        "colab_type": "code",
        "colab": {}
      },
      "source": [
        "from zipfile import ZipFile\n",
        "from urllib.request import urlopen   \n",
        "import pandas as pd\n",
        "import os\n",
        "\n",
        "URL = 'https://data.gov.au/data/dataset/bc515135-4bb6-4d50-957a-3713709a76d3/resource/839cc783-876f-47a2-a70c-0fe606977517/download/business_names_201909.zip'\n",
        "\n",
        "url = urlopen(URL)\n",
        "output = open('zipFile.zip', 'wb')    # note the flag:  \"wb\"        \n",
        "output.write(url.read())\n",
        "output.close()\n",
        "\n",
        "df = pd.read_csv('zipFile.zip',sep='\\t')   # pandas version 0.18.1 takes zip files       \n"
      ],
      "execution_count": 0,
      "outputs": []
    },
    {
      "cell_type": "code",
      "metadata": {
        "id": "7nttHHqhaYLo",
        "colab_type": "code",
        "colab": {}
      },
      "source": [
        "df = df.sample(100000)"
      ],
      "execution_count": 0,
      "outputs": []
    },
    {
      "cell_type": "code",
      "metadata": {
        "id": "1wouncDDzXbe",
        "colab_type": "code",
        "colab": {
          "base_uri": "https://localhost:8080/",
          "height": 289
        },
        "outputId": "e6e5dc4f-3dc5-4657-f0d3-a30a602cf275"
      },
      "source": [
        "df.head()"
      ],
      "execution_count": 25,
      "outputs": [
        {
          "output_type": "execute_result",
          "data": {
            "text/html": [
              "<div>\n",
              "<style scoped>\n",
              "    .dataframe tbody tr th:only-of-type {\n",
              "        vertical-align: middle;\n",
              "    }\n",
              "\n",
              "    .dataframe tbody tr th {\n",
              "        vertical-align: top;\n",
              "    }\n",
              "\n",
              "    .dataframe thead th {\n",
              "        text-align: right;\n",
              "    }\n",
              "</style>\n",
              "<table border=\"1\" class=\"dataframe\">\n",
              "  <thead>\n",
              "    <tr style=\"text-align: right;\">\n",
              "      <th></th>\n",
              "      <th>REGISTER_NAME</th>\n",
              "      <th>BN_NAME</th>\n",
              "      <th>BN_STATUS</th>\n",
              "      <th>BN_REG_DT</th>\n",
              "      <th>BN_CANCEL_DT</th>\n",
              "      <th>BN_RENEW_DT</th>\n",
              "      <th>BN_STATE_NUM</th>\n",
              "      <th>BN_STATE_OF_REG</th>\n",
              "      <th>BN_ABN</th>\n",
              "    </tr>\n",
              "  </thead>\n",
              "  <tbody>\n",
              "    <tr>\n",
              "      <th>0</th>\n",
              "      <td>BUSINESS NAMES</td>\n",
              "      <td>Melbourne Collision Repair Centre ...</td>\n",
              "      <td>Registered</td>\n",
              "      <td>03/05/2019</td>\n",
              "      <td>NaN</td>\n",
              "      <td>03/05/2020</td>\n",
              "      <td>NaN</td>\n",
              "      <td>NaN</td>\n",
              "      <td>8.426302e+10</td>\n",
              "    </tr>\n",
              "    <tr>\n",
              "      <th>1</th>\n",
              "      <td>BUSINESS NAMES</td>\n",
              "      <td>Bruce Ward Training</td>\n",
              "      <td>Registered</td>\n",
              "      <td>12/04/2018</td>\n",
              "      <td>NaN</td>\n",
              "      <td>12/04/2020</td>\n",
              "      <td>NaN</td>\n",
              "      <td>NaN</td>\n",
              "      <td>1.689717e+10</td>\n",
              "    </tr>\n",
              "    <tr>\n",
              "      <th>2</th>\n",
              "      <td>BUSINESS NAMES</td>\n",
              "      <td>Class Act Management</td>\n",
              "      <td>Registered</td>\n",
              "      <td>04/10/2017</td>\n",
              "      <td>NaN</td>\n",
              "      <td>04/10/2020</td>\n",
              "      <td>NaN</td>\n",
              "      <td>NaN</td>\n",
              "      <td>3.189266e+10</td>\n",
              "    </tr>\n",
              "    <tr>\n",
              "      <th>3</th>\n",
              "      <td>BUSINESS NAMES</td>\n",
              "      <td>i Prep</td>\n",
              "      <td>Deregistered</td>\n",
              "      <td>05/08/2015</td>\n",
              "      <td>13/12/2018</td>\n",
              "      <td>05/08/2018</td>\n",
              "      <td>NaN</td>\n",
              "      <td>NaN</td>\n",
              "      <td>NaN</td>\n",
              "    </tr>\n",
              "    <tr>\n",
              "      <th>4</th>\n",
              "      <td>BUSINESS NAMES</td>\n",
              "      <td>Secured Property Services and Management</td>\n",
              "      <td>Registered</td>\n",
              "      <td>01/07/2012</td>\n",
              "      <td>NaN</td>\n",
              "      <td>01/07/2021</td>\n",
              "      <td>NaN</td>\n",
              "      <td>NaN</td>\n",
              "      <td>8.213072e+10</td>\n",
              "    </tr>\n",
              "  </tbody>\n",
              "</table>\n",
              "</div>"
            ],
            "text/plain": [
              "    REGISTER_NAME  ...        BN_ABN\n",
              "0  BUSINESS NAMES  ...  8.426302e+10\n",
              "1  BUSINESS NAMES  ...  1.689717e+10\n",
              "2  BUSINESS NAMES  ...  3.189266e+10\n",
              "3  BUSINESS NAMES  ...           NaN\n",
              "4  BUSINESS NAMES  ...  8.213072e+10\n",
              "\n",
              "[5 rows x 9 columns]"
            ]
          },
          "metadata": {
            "tags": []
          },
          "execution_count": 25
        }
      ]
    }
  ]
}