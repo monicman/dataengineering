{
  "nbformat": 4,
  "nbformat_minor": 0,
  "metadata": {
    "colab": {
      "name": "Capstone Project.ipynb",
      "provenance": [],
      "collapsed_sections": [],
      "include_colab_link": true
    },
    "kernelspec": {
      "name": "python3",
      "display_name": "Python 3"
    }
  },
  "cells": [
    {
      "cell_type": "markdown",
      "metadata": {
        "id": "view-in-github",
        "colab_type": "text"
      },
      "source": [
        "<a href=\"https://colab.research.google.com/github/monicman/dataengineering/blob/master/Capstone_Project.ipynb\" target=\"_parent\"><img src=\"https://colab.research.google.com/assets/colab-badge.svg\" alt=\"Open In Colab\"/></a>"
      ]
    },
    {
      "cell_type": "code",
      "metadata": {
        "id": "aH7xBA0fUNiP",
        "colab_type": "code",
        "outputId": "a23367e0-a8bd-4292-bdb2-c32212c72ff1",
        "colab": {
          "base_uri": "https://localhost:8080/",
          "height": 263
        }
      },
      "source": [
        "!pip install pyspark"
      ],
      "execution_count": 0,
      "outputs": [
        {
          "output_type": "stream",
          "text": [
            "Collecting pyspark\n",
            "\u001b[?25l  Downloading https://files.pythonhosted.org/packages/87/21/f05c186f4ddb01d15d0ddc36ef4b7e3cedbeb6412274a41f26b55a650ee5/pyspark-2.4.4.tar.gz (215.7MB)\n",
            "\u001b[K     |████████████████████████████████| 215.7MB 62kB/s \n",
            "\u001b[?25hCollecting py4j==0.10.7\n",
            "\u001b[?25l  Downloading https://files.pythonhosted.org/packages/e3/53/c737818eb9a7dc32a7cd4f1396e787bd94200c3997c72c1dbe028587bd76/py4j-0.10.7-py2.py3-none-any.whl (197kB)\n",
            "\u001b[K     |████████████████████████████████| 204kB 50.7MB/s \n",
            "\u001b[?25hBuilding wheels for collected packages: pyspark\n",
            "  Building wheel for pyspark (setup.py) ... \u001b[?25l\u001b[?25hdone\n",
            "  Created wheel for pyspark: filename=pyspark-2.4.4-py2.py3-none-any.whl size=216130387 sha256=a831a50f539a821227ae269a8cbe3bcac82eb519949d810ad890e2e357bb0780\n",
            "  Stored in directory: /root/.cache/pip/wheels/ab/09/4d/0d184230058e654eb1b04467dbc1292f00eaa186544604b471\n",
            "Successfully built pyspark\n",
            "Installing collected packages: py4j, pyspark\n",
            "Successfully installed py4j-0.10.7 pyspark-2.4.4\n"
          ],
          "name": "stdout"
        }
      ]
    },
    {
      "cell_type": "code",
      "metadata": {
        "id": "_nVeXATOaqpA",
        "colab_type": "code",
        "colab": {}
      },
      "source": [
        "import pandas as pd\n",
        "from pyspark.sql.functions import isnull, when, count, col\n",
        "from pyspark.sql import SparkSession\n",
        "from pyspark import SparkFiles\n",
        "import urllib\n",
        "from urllib.request import urlopen   \n",
        "import io\n",
        "import requests\n",
        "from zipfile import ZipFile\n",
        "import os\n",
        "import numpy as np"
      ],
      "execution_count": 0,
      "outputs": []
    },
    {
      "cell_type": "code",
      "metadata": {
        "id": "LE2dMeei3MQC",
        "colab_type": "code",
        "colab": {}
      },
      "source": [
        "spark = SparkSession.builder.getOrCreate()\n",
        "from pyspark.sql.types import StructType, StructField, StringType, DoubleType, DateType\n",
        "\n",
        "def ingest_files(url,filename):\n",
        "  spark.sparkContext.addFile(url)\n",
        "  if url[-3:] == 'csv':\n",
        "    return spark.read.csv(SparkFiles.get(filename), header=True)\n",
        "  elif url[-3:] == 'zip':\n",
        "    url = urlopen(url)\n",
        "    output = open(filename, 'wb')    # note the flag:  \"wb\"        \n",
        "    output.write(url.read())\n",
        "    output.close()\n",
        "    df = pd.read_table(filename)\n",
        "    df.iloc[:, 3:6] = df.iloc[:, 3:6].apply(pd.to_datetime, errors='coerce', format='%d/%m/%Y')\n",
        "    myschema = StructType([StructField('REGISTER_NAME', StringType(), True),\n",
        "                         StructField('BN_NAME', StringType(), True),\n",
        "                         StructField('BN_STATUS', StringType(), True),\n",
        "                         StructField('BN_REG_DT', DateType(), True),\n",
        "                         StructField('BN_CANCEL_DT', DateType(), True),\n",
        "                         StructField('BN_RENEW_DT', DateType(), True),\n",
        "                         StructField('BN_STATE_NUM', StringType(), True),\n",
        "                         StructField('BN_STATE_OF_REG', StringType(), True),\n",
        "                         StructField('BN_ABN', DoubleType(), True)])\n",
        "    return spark.createDataFrame(df, schema=myschema)"
      ],
      "execution_count": 0,
      "outputs": []
    },
    {
      "cell_type": "code",
      "metadata": {
        "id": "gtvyMIRnZdVq",
        "colab_type": "code",
        "colab": {}
      },
      "source": [
        "ipgod101 = 'https://data.gov.au/data/dataset/a4210de2-9cbb-4d43-848d-46138fefd271/resource/e5cbeafc-5fb3-4dfd-bd22-afe81b6ab1e1/download/ipgod101.csv'\n",
        "ipgod102 = 'https://data.gov.au/data/dataset/a4210de2-9cbb-4d43-848d-46138fefd271/resource/846990df-db42-4ad7-bbd6-567fd37a2797/download/ipgod102.csv'  \n",
        "ABN = 'https://data.gov.au/data/dataset/bc515135-4bb6-4d50-957a-3713709a76d3/resource/839cc783-876f-47a2-a70c-0fe606977517/download/business_names_201909.zip'\n",
        "\n",
        "staging_ipgod101 = ingest_files(ipgod101,'ipgod101.csv')\n",
        "staging_ipgod102 = ingest_files(ipgod102,'ipgod102.csv')\n",
        "staging_abr = ingest_files(ABN,'zipFile.zip')"
      ],
      "execution_count": 0,
      "outputs": []
    },
    {
      "cell_type": "code",
      "metadata": {
        "id": "PdRqJX2SDQ8y",
        "colab_type": "code",
        "outputId": "5cc9247c-e63a-42dd-ae10-29d0e6d5e3fe",
        "colab": {
          "base_uri": "https://localhost:8080/",
          "height": 280
        }
      },
      "source": [
        "print(\"Data quality check: Count of all values for table ipgod101\")\n",
        "staging_ipgod101.select([count(c).alias(c) for c in staging_ipgod101.columns]).show()\n",
        "print(\"Data quality check: Count of null values for table ipgod101\")\n",
        "staging_ipgod101.select([count(when(isnull(c), c)).alias(c) for c in staging_ipgod101.columns]).show()"
      ],
      "execution_count": 0,
      "outputs": [
        {
          "output_type": "stream",
          "text": [
            "Data quality check: Count of all values for table ipgod101\n",
            "+------------------+----------------+------------+---------------+----------+-------+-------+----------+------------------+-----------+----------------------+\n",
            "|australian_appl_no|application_year|sealing_year|applicant_count|australian|foreign| entity|non_entity|patent_status_type|patent_type|primary_ipc_mark_value|\n",
            "+------------------+----------------+------------+---------------+----------+-------+-------+----------+------------------+-----------+----------------------+\n",
            "|           1403904|         1403904|      505382|        1370763|   1403904|1403904|1403904|   1403904|           1044354|    1403881|                908730|\n",
            "+------------------+----------------+------------+---------------+----------+-------+-------+----------+------------------+-----------+----------------------+\n",
            "\n",
            "Data quality check: Count of null values for table ipgod101\n",
            "+------------------+----------------+------------+---------------+----------+-------+------+----------+------------------+-----------+----------------------+\n",
            "|australian_appl_no|application_year|sealing_year|applicant_count|australian|foreign|entity|non_entity|patent_status_type|patent_type|primary_ipc_mark_value|\n",
            "+------------------+----------------+------------+---------------+----------+-------+------+----------+------------------+-----------+----------------------+\n",
            "|                 0|               0|      898522|          33141|         0|      0|     0|         0|            359550|         23|                495174|\n",
            "+------------------+----------------+------------+---------------+----------+-------+------+----------+------------------+-----------+----------------------+\n",
            "\n"
          ],
          "name": "stdout"
        }
      ]
    },
    {
      "cell_type": "code",
      "metadata": {
        "id": "maMCUB3ReZtC",
        "colab_type": "code",
        "outputId": "256a3589-eabc-4826-f516-cf92e12439d5",
        "colab": {
          "base_uri": "https://localhost:8080/",
          "height": 280
        }
      },
      "source": [
        "print(\"Data quality check: Count of all values for table ipgod102\")\n",
        "staging_ipgod102.select([count(c).alias(c) for c in staging_ipgod102.columns]).show()\n",
        "print(\"Data quality check: Count of null values for table ipgod102\")\n",
        "staging_ipgod102.select([count(when(isnull(c), c)).alias(c) for c in staging_ipgod102.columns]).show()"
      ],
      "execution_count": 0,
      "outputs": [
        {
          "output_type": "stream",
          "text": [
            "Data quality check: Count of all values for table ipgod102\n",
            "+------------------+-------+-------+----------+-------+-------+---------+---------+------+--------+------+------+--------+--------+--------+--------+--------+---------+------+------+\n",
            "|australian_appl_no| ipa_id|country|australian| entity|   name|cleanname|corp_desg| state|postcode|   lat|   lon|sa2_code|sa2_name|lga_code|lga_name|gcc_name|elect_div|   abn|   acn|\n",
            "+------------------+-------+-------+----------+-------+-------+---------+---------+------+--------+------+------+--------+--------+--------+--------+--------+---------+------+------+\n",
            "|           1464871|1274404|1464871|   1464871|1464871|1464871|  1464870|   920480|333711|  325940|325577|325577|  325577|  325577|  325577|  325577|  325577|   325577|146054|120913|\n",
            "+------------------+-------+-------+----------+-------+-------+---------+---------+------+--------+------+------+--------+--------+--------+--------+--------+---------+------+------+\n",
            "\n",
            "Data quality check: Count of null values for table ipgod102\n",
            "+------------------+------+-------+----------+------+----+---------+---------+-------+--------+-------+-------+--------+--------+--------+--------+--------+---------+-------+-------+\n",
            "|australian_appl_no|ipa_id|country|australian|entity|name|cleanname|corp_desg|  state|postcode|    lat|    lon|sa2_code|sa2_name|lga_code|lga_name|gcc_name|elect_div|    abn|    acn|\n",
            "+------------------+------+-------+----------+------+----+---------+---------+-------+--------+-------+-------+--------+--------+--------+--------+--------+---------+-------+-------+\n",
            "|                 0|190467|      0|         0|     0|   0|        1|   544391|1131160| 1138931|1139294|1139294| 1139294| 1139294| 1139294| 1139294| 1139294|  1139294|1318817|1343958|\n",
            "+------------------+------+-------+----------+------+----+---------+---------+-------+--------+-------+-------+--------+--------+--------+--------+--------+---------+-------+-------+\n",
            "\n"
          ],
          "name": "stdout"
        }
      ]
    },
    {
      "cell_type": "code",
      "metadata": {
        "id": "8xFAljD8DWLP",
        "colab_type": "code",
        "outputId": "40b54c25-550e-4418-adc2-c4d673955ba4",
        "colab": {
          "base_uri": "https://localhost:8080/",
          "height": 260
        }
      },
      "source": [
        "print(\"Data quality check: Count of all values for table abr\")\n",
        "staging_abr.select([count(c).alias(c) for c in staging_abr.columns]).show()\n",
        "print(\"Data quality check: Count of null values for table abr\")\n",
        "staging_abr.select([count(when(isnull(c), c)).alias(c) for c in staging_abr.columns]).show()"
      ],
      "execution_count": 0,
      "outputs": [
        {
          "output_type": "stream",
          "text": [
            "Data quality check: Count of all values for table abr\n",
            "+-------------+-------+---------+---------+------------+-----------+------------+---------------+-------+\n",
            "|REGISTER_NAME|BN_NAME|BN_STATUS|BN_REG_DT|BN_CANCEL_DT|BN_RENEW_DT|BN_STATE_NUM|BN_STATE_OF_REG| BN_ABN|\n",
            "+-------------+-------+---------+---------+------------+-----------+------------+---------------+-------+\n",
            "|      2644907|2644907|  2644907|  2644907|      346039|    2644907|     2644907|        2644907|2644907|\n",
            "+-------------+-------+---------+---------+------------+-----------+------------+---------------+-------+\n",
            "\n",
            "Data quality check: Count of null values for table abr\n",
            "+-------------+-------+---------+---------+------------+-----------+------------+---------------+------+\n",
            "|REGISTER_NAME|BN_NAME|BN_STATUS|BN_REG_DT|BN_CANCEL_DT|BN_RENEW_DT|BN_STATE_NUM|BN_STATE_OF_REG|BN_ABN|\n",
            "+-------------+-------+---------+---------+------------+-----------+------------+---------------+------+\n",
            "|            0|      0|        0|        0|     2298868|          0|           0|              0|     0|\n",
            "+-------------+-------+---------+---------+------------+-----------+------------+---------------+------+\n",
            "\n"
          ],
          "name": "stdout"
        }
      ]
    },
    {
      "cell_type": "code",
      "metadata": {
        "id": "skJi0YPnDgcm",
        "colab_type": "code",
        "colab": {}
      },
      "source": [
        "staging_ipgod101.createOrReplaceTempView('staging_ipgod101')\n",
        "staging_ipgod102.createOrReplaceTempView('staging_ipgod102')\n",
        "staging_abr.createOrReplaceTempView('staging_abr')\n",
        "\n",
        "\n",
        "application =  spark.sql(\"\"\" SELECT DISTINCT \n",
        "                                      staging_ipgod101.australian_appl_no,\n",
        "                                      staging_ipgod101.patent_status_type,\n",
        "                                      staging_ipgod101.patent_type,\n",
        "                                      staging_ipgod101.primary_ipc_mark_value,\n",
        "                                      staging_ipgod102.ipa_id,\n",
        "                                      staging_ipgod102.lat,\n",
        "                                      staging_ipgod102.lon\n",
        "                                      from staging_ipgod101 inner join staging_ipgod102\n",
        "                                      on staging_ipgod101.australian_appl_no = staging_ipgod102.australian_appl_no\n",
        "                                      where staging_ipgod102.australian = 'True' and staging_ipgod102.entity = 'True'\n",
        "                                      order by staging_ipgod101.australian_appl_no,staging_ipgod102.ipa_id\n",
        "                                      \"\"\")\n",
        "\n",
        "region = spark.sql(\"\"\"SELECT DISTINCT\n",
        "                                       lat,\n",
        "                                       lon,\n",
        "                                       state,\n",
        "                                       sa2_code,\n",
        "                                       sa2_name,\n",
        "                                       lga_code,\n",
        "                                       lga_name,\n",
        "                                       gcc_name,\n",
        "                                       elect_div\n",
        "                                   FROM staging_ipgod102\n",
        "                                   where australian = 'True' and entity = 'True' and lat is not NULL and lon is not NULL\n",
        "                                   order by lat,lon\n",
        "                                   \"\"\") \n",
        "\n",
        "business = spark.sql(\"\"\"SELECT    DISTINCT\n",
        "                                  staging_ipgod102.ipa_id,\n",
        "                                  staging_ipgod102.abn,\n",
        "                                  staging_ipgod102.cleanname,\n",
        "                                  staging_abr.BN_STATUS as business_registration_status,\n",
        "                                  staging_abr.BN_REG_DT as business_registration_date,\n",
        "                                  staging_abr.BN_REG_DT as business_cancel_date,\n",
        "                                  staging_abr.BN_RENEW_DT as business_renew_date\n",
        "                                  from staging_ipgod102 INNER JOIN staging_abr \n",
        "                                  on staging_ipgod102.abn  = staging_abr.BN_ABN\n",
        "\n",
        "                                  \"\"\")"
      ],
      "execution_count": 0,
      "outputs": []
    },
    {
      "cell_type": "code",
      "metadata": {
        "id": "dkOpmxafFSHu",
        "colab_type": "code",
        "outputId": "6bfb3747-5777-4028-94ba-ffd22a905a1c",
        "colab": {
          "base_uri": "https://localhost:8080/",
          "height": 124
        }
      },
      "source": [
        "business.head(5)"
      ],
      "execution_count": 0,
      "outputs": [
        {
          "output_type": "execute_result",
          "data": {
            "text/plain": [
              "[Row(ipa_id='83891.0', abn='85054355618.0', cleanname='GOLDEN CIRCLE', business_registration_status='Registered', business_registration_date=datetime.date(2010, 11, 24), business_cancel_date=datetime.date(2010, 11, 24), business_renew_date=datetime.date(2013, 11, 24)),\n",
              " Row(ipa_id='143465.0', abn='78002894224.0', cleanname='LANDIS & GYR', business_registration_status='Registered', business_registration_date=datetime.date(2008, 1, 14), business_cancel_date=datetime.date(2008, 1, 14), business_renew_date=datetime.date(2017, 1, 14)),\n",
              " Row(ipa_id='91737.0', abn='64126087509.0', cleanname='CLEARWATER FILTER SYSTEMS AUSTRALIA', business_registration_status='Registered', business_registration_date=datetime.date(2015, 6, 9), business_cancel_date=datetime.date(2015, 6, 9), business_renew_date=datetime.date(2021, 7, 1)),\n",
              " Row(ipa_id='509027.0', abn='31631230405.0', cleanname='COLORCORP', business_registration_status='Registered', business_registration_date=datetime.date(2019, 4, 8), business_cancel_date=datetime.date(2019, 4, 8), business_renew_date=datetime.date(2022, 4, 8)),\n",
              " Row(ipa_id='54128.0', abn='54060402048.0', cleanname='AUSTRALIAN TEMPORARY FENCING', business_registration_status='Registered', business_registration_date=datetime.date(2017, 3, 14), business_cancel_date=datetime.date(2017, 3, 14), business_renew_date=datetime.date(2020, 3, 14))]"
            ]
          },
          "metadata": {
            "tags": []
          },
          "execution_count": 52
        }
      ]
    }
  ]
}