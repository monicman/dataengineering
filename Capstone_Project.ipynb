{
  "nbformat": 4,
  "nbformat_minor": 0,
  "metadata": {
    "colab": {
      "name": "Capstone Project.ipynb",
      "provenance": [],
      "collapsed_sections": [],
      "include_colab_link": true
    },
    "kernelspec": {
      "name": "python3",
      "display_name": "Python 3"
    }
  },
  "cells": [
    {
      "cell_type": "markdown",
      "metadata": {
        "id": "view-in-github",
        "colab_type": "text"
      },
      "source": [
        "<a href=\"https://colab.research.google.com/github/monicman/dataengineering/blob/master/Capstone_Project.ipynb\" target=\"_parent\"><img src=\"https://colab.research.google.com/assets/colab-badge.svg\" alt=\"Open In Colab\"/></a>"
      ]
    },
    {
      "cell_type": "code",
      "metadata": {
        "id": "aH7xBA0fUNiP",
        "colab_type": "code",
        "outputId": "3ef28de1-3592-47ca-c073-78e4287d3e93",
        "colab": {
          "base_uri": "https://localhost:8080/",
          "height": 52
        }
      },
      "source": [
        "!pip install pyspark"
      ],
      "execution_count": 0,
      "outputs": [
        {
          "output_type": "stream",
          "text": [
            "Requirement already satisfied: pyspark in /usr/local/lib/python3.6/dist-packages (2.4.4)\n",
            "Requirement already satisfied: py4j==0.10.7 in /usr/local/lib/python3.6/dist-packages (from pyspark) (0.10.7)\n"
          ],
          "name": "stdout"
        }
      ]
    },
    {
      "cell_type": "code",
      "metadata": {
        "id": "_nVeXATOaqpA",
        "colab_type": "code",
        "colab": {}
      },
      "source": [
        "import pandas as pd\n",
        "from pyspark.sql import SparkSession\n",
        "from pyspark import SparkFiles\n",
        "import urllib\n",
        "from urllib.request import urlopen   \n",
        "import io\n",
        "import requests\n",
        "from zipfile import ZipFile\n",
        "import os"
      ],
      "execution_count": 0,
      "outputs": []
    },
    {
      "cell_type": "code",
      "metadata": {
        "id": "Gkz03z6xjlDc",
        "colab_type": "code",
        "colab": {}
      },
      "source": [
        "spark = SparkSession.builder.getOrCreate()\n",
        "\n",
        "def ingest_files(url,filename):\n",
        "  spark.sparkContext.addFile(url)\n",
        "  if url[-3:] == 'csv':\n",
        "    return spark.read.csv(SparkFiles.get(filename), header=True)\n",
        "  elif url[-3:] == 'zip':\n",
        "    url = urlopen(url)\n",
        "    output = open(filename, 'wb')    # note the flag:  \"wb\"        \n",
        "    output.write(url.read())\n",
        "    output.close()\n",
        "    print(\"error here\")\n",
        "    df = pd.read_csv(filename,sep='\\t')\n",
        "    print(\"no actually here\")\n",
        "    return spark.createDataFrame(df)"
      ],
      "execution_count": 0,
      "outputs": []
    },
    {
      "cell_type": "code",
      "metadata": {
        "id": "LE2dMeei3MQC",
        "colab_type": "code",
        "colab": {}
      },
      "source": [
        "spark = SparkSession.builder.getOrCreate()\n",
        "from pyspark.sql.types import StructType, StructField, StringType, DoubleType, DateType\n",
        "\n",
        "def ingest_files(url,filename):\n",
        "  spark.sparkContext.addFile(url)\n",
        "  if url[-3:] == 'csv':\n",
        "    return spark.read.csv(SparkFiles.get(filename), header=True)\n",
        "  elif url[-3:] == 'zip':\n",
        "    url = urlopen(url)\n",
        "    output = open(filename, 'wb')    # note the flag:  \"wb\"        \n",
        "    output.write(url.read())\n",
        "    output.close()\n",
        "    print(\"error here\")\n",
        "    df = pd.read_csv(filename,sep='\\t')\n",
        "    df.iloc[:, 3:6] = df.iloc[:, 3:6].apply(pd.to_datetime, errors='coerce', format='%Y/%m/%d')\n",
        "    print(\"no actually here\")\n",
        "    myschema = StructType([StructField('REGISTER_NAME', StringType(), True),\n",
        "                         StructField('BN_NAME', StringType(), True),\n",
        "                         StructField('BN_STATUS', StringType(), True),\n",
        "                         StructField('BN_REG_DT', DateType(), True),\n",
        "                         StructField('BN_CANCEL_DT', DateType(), True),\n",
        "                         StructField('BN_RENEW_DT', DateType(), True),\n",
        "                         StructField('BN_STATE_NUM', StringType(), True),\n",
        "                         StructField('BN_STATE_OF_REG', StringType(), True),\n",
        "                         StructField('BN_ABN', DoubleType(), True)])\n",
        "    return spark.createDataFrame(df, schema=myschema)"
      ],
      "execution_count": 0,
      "outputs": []
    },
    {
      "cell_type": "code",
      "metadata": {
        "id": "gtvyMIRnZdVq",
        "colab_type": "code",
        "outputId": "bcbf74b3-6828-4356-db66-90917a71c4c6",
        "colab": {
          "base_uri": "https://localhost:8080/",
          "height": 52
        }
      },
      "source": [
        "ipgod101 = 'https://data.gov.au/data/dataset/a4210de2-9cbb-4d43-848d-46138fefd271/resource/e5cbeafc-5fb3-4dfd-bd22-afe81b6ab1e1/download/ipgod101.csv'\n",
        "ipgod102 = 'https://data.gov.au/data/dataset/a4210de2-9cbb-4d43-848d-46138fefd271/resource/846990df-db42-4ad7-bbd6-567fd37a2797/download/ipgod102.csv'  \n",
        "ABN = 'https://data.gov.au/data/dataset/bc515135-4bb6-4d50-957a-3713709a76d3/resource/839cc783-876f-47a2-a70c-0fe606977517/download/business_names_201909.zip'\n",
        "\n",
        "staging_ipgod101 = ingest_files(ipgod101,'ipgod101.csv')\n",
        "staging_ipgod102 = ingest_files(ipgod102,'ipgod102.csv')\n",
        "staging_abr = ingest_files(ABN,'zipFile.zip')"
      ],
      "execution_count": 92,
      "outputs": [
        {
          "output_type": "stream",
          "text": [
            "error here\n",
            "no actually here\n"
          ],
          "name": "stdout"
        }
      ]
    },
    {
      "cell_type": "markdown",
      "metadata": {
        "id": "ugfhNkM4a-mt",
        "colab_type": "text"
      },
      "source": [
        "Step 1: Get ABN Data and stage it in spark"
      ]
    },
    {
      "cell_type": "code",
      "metadata": {
        "id": "0BdS2SHateBl",
        "colab_type": "code",
        "colab": {}
      },
      "source": [
        "ABN = 'https://data.gov.au/data/dataset/bc515135-4bb6-4d50-957a-3713709a76d3/resource/839cc783-876f-47a2-a70c-0fe606977517/download/business_names_201909.zip'\n",
        "\n",
        "url = urlopen(URL)\n",
        "output = open('zipFile.zip', 'wb')    # note the flag:  \"wb\"        \n",
        "output.write(url.read())\n",
        "output.close()\n",
        "\n",
        "df = pd.read_csv('zipFile.zip',sep='\\t')   # pandas version 0.18.1 takes zip files       \n"
      ],
      "execution_count": 0,
      "outputs": []
    },
    {
      "cell_type": "code",
      "metadata": {
        "id": "7nttHHqhaYLo",
        "colab_type": "code",
        "outputId": "f3402ca6-fdef-482c-ce96-46d452ac2f2d",
        "colab": {
          "base_uri": "https://localhost:8080/",
          "height": 35
        }
      },
      "source": [
        "ABN = 'https://data.gov.au/data/dataset/bc515135-4bb6-4d50-957a-3713709a76d3/resource/839cc783-876f-47a2-a70c-0fe606977517/download/business_names_201909.zip'\n"
      ],
      "execution_count": 0,
      "outputs": [
        {
          "output_type": "execute_result",
          "data": {
            "text/plain": [
              "'zip'"
            ]
          },
          "metadata": {
            "tags": []
          },
          "execution_count": 26
        }
      ]
    },
    {
      "cell_type": "code",
      "metadata": {
        "id": "1wouncDDzXbe",
        "colab_type": "code",
        "outputId": "4fe8abfb-414f-40a1-b69f-33e17b537dfb",
        "colab": {
          "base_uri": "https://localhost:8080/",
          "height": 289
        }
      },
      "source": [
        "df.head()"
      ],
      "execution_count": 0,
      "outputs": [
        {
          "output_type": "execute_result",
          "data": {
            "text/html": [
              "<div>\n",
              "<style scoped>\n",
              "    .dataframe tbody tr th:only-of-type {\n",
              "        vertical-align: middle;\n",
              "    }\n",
              "\n",
              "    .dataframe tbody tr th {\n",
              "        vertical-align: top;\n",
              "    }\n",
              "\n",
              "    .dataframe thead th {\n",
              "        text-align: right;\n",
              "    }\n",
              "</style>\n",
              "<table border=\"1\" class=\"dataframe\">\n",
              "  <thead>\n",
              "    <tr style=\"text-align: right;\">\n",
              "      <th></th>\n",
              "      <th>REGISTER_NAME</th>\n",
              "      <th>BN_NAME</th>\n",
              "      <th>BN_STATUS</th>\n",
              "      <th>BN_REG_DT</th>\n",
              "      <th>BN_CANCEL_DT</th>\n",
              "      <th>BN_RENEW_DT</th>\n",
              "      <th>BN_STATE_NUM</th>\n",
              "      <th>BN_STATE_OF_REG</th>\n",
              "      <th>BN_ABN</th>\n",
              "    </tr>\n",
              "  </thead>\n",
              "  <tbody>\n",
              "    <tr>\n",
              "      <th>2612578</th>\n",
              "      <td>BUSINESS NAMES</td>\n",
              "      <td>VEGETABLE OIL WHOLESALERS AUSTRALIA</td>\n",
              "      <td>Registered</td>\n",
              "      <td>17/02/2003</td>\n",
              "      <td>NaN</td>\n",
              "      <td>17/02/2021</td>\n",
              "      <td>B1675364R</td>\n",
              "      <td>VIC</td>\n",
              "      <td>3.806964e+10</td>\n",
              "    </tr>\n",
              "    <tr>\n",
              "      <th>1566829</th>\n",
              "      <td>BUSINESS NAMES</td>\n",
              "      <td>Jo &amp; Adam's Takeaway</td>\n",
              "      <td>Registered</td>\n",
              "      <td>21/12/2016</td>\n",
              "      <td>NaN</td>\n",
              "      <td>21/12/2020</td>\n",
              "      <td>NaN</td>\n",
              "      <td>NaN</td>\n",
              "      <td>1.991220e+10</td>\n",
              "    </tr>\n",
              "    <tr>\n",
              "      <th>560846</th>\n",
              "      <td>BUSINESS NAMES</td>\n",
              "      <td>BYFORD FUGITIVE AUTO PARTS &amp; SERVICE</td>\n",
              "      <td>Registered</td>\n",
              "      <td>27/06/2002</td>\n",
              "      <td>NaN</td>\n",
              "      <td>27/06/2020</td>\n",
              "      <td>BN09531221</td>\n",
              "      <td>WA</td>\n",
              "      <td>7.810624e+10</td>\n",
              "    </tr>\n",
              "    <tr>\n",
              "      <th>2206955</th>\n",
              "      <td>BUSINESS NAMES</td>\n",
              "      <td>Toowoomba Scrap Cars and Commercials</td>\n",
              "      <td>Registered</td>\n",
              "      <td>08/05/2018</td>\n",
              "      <td>NaN</td>\n",
              "      <td>08/05/2022</td>\n",
              "      <td>NaN</td>\n",
              "      <td>NaN</td>\n",
              "      <td>2.136973e+10</td>\n",
              "    </tr>\n",
              "    <tr>\n",
              "      <th>1816358</th>\n",
              "      <td>BUSINESS NAMES</td>\n",
              "      <td>Over the Way</td>\n",
              "      <td>Registered</td>\n",
              "      <td>10/06/2013</td>\n",
              "      <td>NaN</td>\n",
              "      <td>10/06/2019</td>\n",
              "      <td>NaN</td>\n",
              "      <td>NaN</td>\n",
              "      <td>8.620810e+10</td>\n",
              "    </tr>\n",
              "  </tbody>\n",
              "</table>\n",
              "</div>"
            ],
            "text/plain": [
              "          REGISTER_NAME  ...        BN_ABN\n",
              "2612578  BUSINESS NAMES  ...  3.806964e+10\n",
              "1566829  BUSINESS NAMES  ...  1.991220e+10\n",
              "560846   BUSINESS NAMES  ...  7.810624e+10\n",
              "2206955  BUSINESS NAMES  ...  2.136973e+10\n",
              "1816358  BUSINESS NAMES  ...  8.620810e+10\n",
              "\n",
              "[5 rows x 9 columns]"
            ]
          },
          "metadata": {
            "tags": []
          },
          "execution_count": 10
        }
      ]
    },
    {
      "cell_type": "code",
      "metadata": {
        "id": "rdfqYZqEYFql",
        "colab_type": "code",
        "outputId": "e49092bd-cce9-4578-d98d-952b473af3b6",
        "colab": {
          "base_uri": "https://localhost:8080/",
          "height": 222
        }
      },
      "source": [
        "ipgod101.head()"
      ],
      "execution_count": 0,
      "outputs": [
        {
          "output_type": "execute_result",
          "data": {
            "text/html": [
              "<div>\n",
              "<style scoped>\n",
              "    .dataframe tbody tr th:only-of-type {\n",
              "        vertical-align: middle;\n",
              "    }\n",
              "\n",
              "    .dataframe tbody tr th {\n",
              "        vertical-align: top;\n",
              "    }\n",
              "\n",
              "    .dataframe thead th {\n",
              "        text-align: right;\n",
              "    }\n",
              "</style>\n",
              "<table border=\"1\" class=\"dataframe\">\n",
              "  <thead>\n",
              "    <tr style=\"text-align: right;\">\n",
              "      <th></th>\n",
              "      <th>australian_appl_no</th>\n",
              "      <th>application_year</th>\n",
              "      <th>sealing_year</th>\n",
              "      <th>applicant_count</th>\n",
              "      <th>australian</th>\n",
              "      <th>foreign</th>\n",
              "      <th>entity</th>\n",
              "      <th>non_entity</th>\n",
              "      <th>patent_status_type</th>\n",
              "      <th>patent_type</th>\n",
              "      <th>primary_ipc_mark_value</th>\n",
              "    </tr>\n",
              "  </thead>\n",
              "  <tbody>\n",
              "    <tr>\n",
              "      <th>0</th>\n",
              "      <td>2018904968</td>\n",
              "      <td>2018</td>\n",
              "      <td>NaN</td>\n",
              "      <td>1.0</td>\n",
              "      <td>True</td>\n",
              "      <td>False</td>\n",
              "      <td>False</td>\n",
              "      <td>True</td>\n",
              "      <td>FILED</td>\n",
              "      <td>Provisional</td>\n",
              "      <td>NaN</td>\n",
              "    </tr>\n",
              "    <tr>\n",
              "      <th>1</th>\n",
              "      <td>2017215797</td>\n",
              "      <td>2018</td>\n",
              "      <td>NaN</td>\n",
              "      <td>1.0</td>\n",
              "      <td>False</td>\n",
              "      <td>True</td>\n",
              "      <td>True</td>\n",
              "      <td>False</td>\n",
              "      <td>FILED</td>\n",
              "      <td>Standard</td>\n",
              "      <td>E06B   9/00</td>\n",
              "    </tr>\n",
              "    <tr>\n",
              "      <th>2</th>\n",
              "      <td>2017216336</td>\n",
              "      <td>2018</td>\n",
              "      <td>NaN</td>\n",
              "      <td>1.0</td>\n",
              "      <td>False</td>\n",
              "      <td>True</td>\n",
              "      <td>True</td>\n",
              "      <td>False</td>\n",
              "      <td>FILED</td>\n",
              "      <td>Standard</td>\n",
              "      <td>A61M  31/00</td>\n",
              "    </tr>\n",
              "    <tr>\n",
              "      <th>3</th>\n",
              "      <td>2017216324</td>\n",
              "      <td>2018</td>\n",
              "      <td>NaN</td>\n",
              "      <td>1.0</td>\n",
              "      <td>False</td>\n",
              "      <td>True</td>\n",
              "      <td>True</td>\n",
              "      <td>False</td>\n",
              "      <td>FILED</td>\n",
              "      <td>Standard</td>\n",
              "      <td>H04W  74/08</td>\n",
              "    </tr>\n",
              "    <tr>\n",
              "      <th>4</th>\n",
              "      <td>2017216313</td>\n",
              "      <td>2018</td>\n",
              "      <td>NaN</td>\n",
              "      <td>1.0</td>\n",
              "      <td>False</td>\n",
              "      <td>True</td>\n",
              "      <td>True</td>\n",
              "      <td>False</td>\n",
              "      <td>FILED</td>\n",
              "      <td>Standard</td>\n",
              "      <td>H01L  29/06</td>\n",
              "    </tr>\n",
              "  </tbody>\n",
              "</table>\n",
              "</div>"
            ],
            "text/plain": [
              "   australian_appl_no  application_year  ...  patent_type  primary_ipc_mark_value\n",
              "0          2018904968              2018  ...  Provisional                     NaN\n",
              "1          2017215797              2018  ...     Standard             E06B   9/00\n",
              "2          2017216336              2018  ...     Standard             A61M  31/00\n",
              "3          2017216324              2018  ...     Standard             H04W  74/08\n",
              "4          2017216313              2018  ...     Standard             H01L  29/06\n",
              "\n",
              "[5 rows x 11 columns]"
            ]
          },
          "metadata": {
            "tags": []
          },
          "execution_count": 22
        }
      ]
    },
    {
      "cell_type": "code",
      "metadata": {
        "id": "bbdjEWZiTgAQ",
        "colab_type": "code",
        "outputId": "fc1b0651-6caf-491b-e92f-11287d3082f6",
        "colab": {
          "base_uri": "https://localhost:8080/",
          "height": 399
        }
      },
      "source": [
        "ipgod102[ipgod102['ipa_id'] == 322357.0]"
      ],
      "execution_count": 0,
      "outputs": [
        {
          "output_type": "execute_result",
          "data": {
            "text/html": [
              "<div>\n",
              "<style scoped>\n",
              "    .dataframe tbody tr th:only-of-type {\n",
              "        vertical-align: middle;\n",
              "    }\n",
              "\n",
              "    .dataframe tbody tr th {\n",
              "        vertical-align: top;\n",
              "    }\n",
              "\n",
              "    .dataframe thead th {\n",
              "        text-align: right;\n",
              "    }\n",
              "</style>\n",
              "<table border=\"1\" class=\"dataframe\">\n",
              "  <thead>\n",
              "    <tr style=\"text-align: right;\">\n",
              "      <th></th>\n",
              "      <th>australian_appl_no</th>\n",
              "      <th>ipa_id</th>\n",
              "      <th>country</th>\n",
              "      <th>australian</th>\n",
              "      <th>entity</th>\n",
              "      <th>name</th>\n",
              "      <th>cleanname</th>\n",
              "      <th>corp_desg</th>\n",
              "      <th>state</th>\n",
              "      <th>postcode</th>\n",
              "      <th>lat</th>\n",
              "      <th>lon</th>\n",
              "      <th>sa2_code</th>\n",
              "      <th>sa2_name</th>\n",
              "      <th>lga_code</th>\n",
              "      <th>lga_name</th>\n",
              "      <th>gcc_name</th>\n",
              "      <th>elect_div</th>\n",
              "      <th>abn</th>\n",
              "      <th>acn</th>\n",
              "    </tr>\n",
              "  </thead>\n",
              "  <tbody>\n",
              "    <tr>\n",
              "      <th>1260798</th>\n",
              "      <td>2012905138</td>\n",
              "      <td>322357.0</td>\n",
              "      <td>AU</td>\n",
              "      <td>True</td>\n",
              "      <td>True</td>\n",
              "      <td>Elevare Energy IP Pty Ltd</td>\n",
              "      <td>ELEVARE ENERGY IP</td>\n",
              "      <td>PTY LTD</td>\n",
              "      <td>QLD</td>\n",
              "      <td>4034.0</td>\n",
              "      <td>-27.357</td>\n",
              "      <td>153.018</td>\n",
              "      <td>302021027.0</td>\n",
              "      <td>Aspley</td>\n",
              "      <td>31000.0</td>\n",
              "      <td>Brisbane (C)</td>\n",
              "      <td>Greater Brisbane</td>\n",
              "      <td>Petrie</td>\n",
              "      <td>NaN</td>\n",
              "      <td>NaN</td>\n",
              "    </tr>\n",
              "    <tr>\n",
              "      <th>1290230</th>\n",
              "      <td>2013350321</td>\n",
              "      <td>322357.0</td>\n",
              "      <td>AU</td>\n",
              "      <td>True</td>\n",
              "      <td>True</td>\n",
              "      <td>Elevare Energy IP Pty Ltd</td>\n",
              "      <td>ELEVARE ENERGY IP</td>\n",
              "      <td>PTY LTD</td>\n",
              "      <td>QLD</td>\n",
              "      <td>4034.0</td>\n",
              "      <td>-27.357</td>\n",
              "      <td>153.018</td>\n",
              "      <td>302021027.0</td>\n",
              "      <td>Aspley</td>\n",
              "      <td>31000.0</td>\n",
              "      <td>Brisbane (C)</td>\n",
              "      <td>Greater Brisbane</td>\n",
              "      <td>Petrie</td>\n",
              "      <td>NaN</td>\n",
              "      <td>NaN</td>\n",
              "    </tr>\n",
              "    <tr>\n",
              "      <th>1449069</th>\n",
              "      <td>2018201166</td>\n",
              "      <td>322357.0</td>\n",
              "      <td>AU</td>\n",
              "      <td>True</td>\n",
              "      <td>True</td>\n",
              "      <td>Elevare Energy IP Pty Ltd</td>\n",
              "      <td>ELEVARE ENERGY IP</td>\n",
              "      <td>PTY LTD</td>\n",
              "      <td>QLD</td>\n",
              "      <td>4034.0</td>\n",
              "      <td>-27.357</td>\n",
              "      <td>153.018</td>\n",
              "      <td>302021027.0</td>\n",
              "      <td>Aspley</td>\n",
              "      <td>31000.0</td>\n",
              "      <td>Brisbane (C)</td>\n",
              "      <td>Greater Brisbane</td>\n",
              "      <td>Petrie</td>\n",
              "      <td>NaN</td>\n",
              "      <td>NaN</td>\n",
              "    </tr>\n",
              "    <tr>\n",
              "      <th>1464868</th>\n",
              "      <td>2019900440</td>\n",
              "      <td>322357.0</td>\n",
              "      <td>AU</td>\n",
              "      <td>True</td>\n",
              "      <td>True</td>\n",
              "      <td>Elevare Energy IP Pty Ltd</td>\n",
              "      <td>ELEVARE ENERGY IP</td>\n",
              "      <td>PTY LTD</td>\n",
              "      <td>QLD</td>\n",
              "      <td>4064.0</td>\n",
              "      <td>-27.474</td>\n",
              "      <td>153.004</td>\n",
              "      <td>305041135.0</td>\n",
              "      <td>Paddington - Milton</td>\n",
              "      <td>31000.0</td>\n",
              "      <td>Brisbane (C)</td>\n",
              "      <td>Greater Brisbane</td>\n",
              "      <td>Brisbane</td>\n",
              "      <td>NaN</td>\n",
              "      <td>NaN</td>\n",
              "    </tr>\n",
              "  </tbody>\n",
              "</table>\n",
              "</div>"
            ],
            "text/plain": [
              "         australian_appl_no    ipa_id country  ...  elect_div  abn acn\n",
              "1260798          2012905138  322357.0      AU  ...     Petrie  NaN NaN\n",
              "1290230          2013350321  322357.0      AU  ...     Petrie  NaN NaN\n",
              "1449069          2018201166  322357.0      AU  ...     Petrie  NaN NaN\n",
              "1464868          2019900440  322357.0      AU  ...   Brisbane  NaN NaN\n",
              "\n",
              "[4 rows x 20 columns]"
            ]
          },
          "metadata": {
            "tags": []
          },
          "execution_count": 21
        }
      ]
    }
  ]
}